{
 "cells": [
  {
   "cell_type": "code",
   "execution_count": 7,
   "metadata": {},
   "outputs": [],
   "source": [
    "import fitsio\n",
    "import numpy as np\n",
    "import matplotlib.pyplot as plt\n",
    "import sys, os\n",
    "\n",
    "sys.path.append('/global/homes/q/qmxp55/DESI/BGS_paper/')\n",
    "from desitarget import io\n",
    "from desitarget.targets import desi_mask, bgs_mask, mws_mask"
   ]
  },
  {
   "cell_type": "code",
   "execution_count": 2,
   "metadata": {},
   "outputs": [],
   "source": [
    "def flux_to_mag(flux):\n",
    "    mag = 22.5 - 2.5*np.log10(flux)\n",
    "    return mag"
   ]
  },
  {
   "cell_type": "code",
   "execution_count": 3,
   "metadata": {},
   "outputs": [],
   "source": [
    "#nside = io.desitarget_nside()\n",
    "sweep_dir_dr8south = '/global/project/projectdirs/cosmo/data/legacysurvey/dr8/south/sweep/8.0'\n",
    "sweep_dir_dr8north = '/global/project/projectdirs/cosmo/data/legacysurvey/dr8/north/sweep/8.0'\n",
    "#dest = '/global/cscratch1/sd/qmxp55/desitarget_output/targets-BGS-sv1-dr8_lowq_relaxed.fits'\n",
    "\n",
    "infilessouth = io.list_sweepfiles(sweep_dir_dr8south)\n",
    "infilesnorth = io.list_sweepfiles(sweep_dir_dr8north)\n",
    "infiles = np.concatenate((infilessouth, infilesnorth)).tolist()"
   ]
  },
  {
   "cell_type": "markdown",
   "metadata": {},
   "source": [
    "## run in master branch (before update)"
   ]
  },
  {
   "cell_type": "code",
   "execution_count": 4,
   "metadata": {},
   "outputs": [
    {
     "name": "stdout",
     "output_type": "stream",
     "text": [
      "Your branch is up to date with 'origin/master'.\n"
     ]
    },
    {
     "name": "stderr",
     "output_type": "stream",
     "text": [
      "Already on 'master'\n"
     ]
    }
   ],
   "source": [
    "%%bash\n",
    "#!/bin/bash\n",
    "\n",
    "cd /global/homes/q/qmxp55/DESI/desitarget\n",
    "git checkout master"
   ]
  },
  {
   "cell_type": "code",
   "execution_count": 7,
   "metadata": {},
   "outputs": [
    {
     "name": "stdout",
     "output_type": "stream",
     "text": [
      "INFO:cuts.py:2375:select_targets: Running on the main survey\n",
      "Total run time: 69.469287 sec\n"
     ]
    }
   ],
   "source": [
    "#\n",
    "#sys.path.insert(0, '/global/homes/q/qmxp55/DESI/BGS_paper/')\n",
    "sys.path.append('/global/homes/q/qmxp55/DESI/BGS_paper/')\n",
    "from desitarget.cuts import select_targets\n",
    "from desitarget import io\n",
    "from desitarget.targets import desi_mask, bgs_mask, mws_mask\n",
    "import time\n",
    "start = time.time()\n",
    "\n",
    "# setting GAIA dir environment (new requirement 5th Nov 2019)\n",
    "os.environ['GAIA_DIR'] = '/global/project/projectdirs/cosmo/data/gaia/dr2/'\n",
    "targets = select_targets(infiles[:2], mask=True, tcnames=[\"BGS\"], survey='main', backup=False)\n",
    "\n",
    "end = time.time()\n",
    "print('Total run time: %f sec' %(end - start))\n",
    "\n",
    "rmag = flux_to_mag(targets['FLUX_R']/targets['MW_TRANSMISSION_R'])\n",
    "rfibmag = flux_to_mag(targets['FIBERFLUX_R']/targets['MW_TRANSMISSION_R'])\n",
    "    "
   ]
  },
  {
   "cell_type": "code",
   "execution_count": 9,
   "metadata": {},
   "outputs": [
    {
     "name": "stdout",
     "output_type": "stream",
     "text": [
      "BGS_FAINT 25581\n",
      "\t -- rmag min: 19.500004, rmag max: 19.999994\n",
      "\t -- rfibmag min: 19.772762, rfibmag max: 24.318287\n",
      "BGS_BRIGHT 37201\n",
      "\t -- rmag min: 11.544000, rmag max: 19.499952\n",
      "\t -- rfibmag min: 15.601568, rfibmag max: 25.266115\n",
      "BGS_WISE 1838\n",
      "\t -- rmag min: 15.386374, rmag max: 19.999062\n",
      "\t -- rfibmag min: 15.657728, rfibmag max: 20.277885\n"
     ]
    }
   ],
   "source": [
    "bits = ['BGS_FAINT', 'BGS_BRIGHT', 'BGS_WISE']\n",
    "for bit in bits:\n",
    "    bgsbit = ((targets['BGS_TARGET'] & bgs_mask[bit]) != 0)\n",
    "    print(bit, np.sum(bgsbit))\n",
    "    print('\\t -- rmag min: %f, rmag max: %f' %(rmag[bgsbit].min(),rmag[bgsbit].max()))\n",
    "    print('\\t -- rfibmag min: %f, rfibmag max: %f' %(rfibmag[bgsbit].min(),rfibmag[bgsbit].max()))\n"
   ]
  },
  {
   "cell_type": "markdown",
   "metadata": {},
   "source": [
    "### apply maskbits and FMC cuts to master desitarget output"
   ]
  },
  {
   "cell_type": "code",
   "execution_count": 10,
   "metadata": {},
   "outputs": [
    {
     "name": "stdout",
     "output_type": "stream",
     "text": [
      "BGS_FAINT 25418\n",
      "\t -- rmag min: 19.500004, rmag max: 19.999994\n",
      "\t -- rfibmag min: 19.773514, rfibmag max: 22.862207\n",
      "BGS_BRIGHT 35852\n",
      "\t -- rmag min: 14.270964, rmag max: 19.499952\n",
      "\t -- rfibmag min: 16.216063, rfibmag max: 22.376495\n",
      "BGS_WISE 1827\n",
      "\t -- rmag min: 15.386374, rmag max: 19.999062\n",
      "\t -- rfibmag min: 15.657728, rfibmag max: 20.277885\n"
     ]
    }
   ],
   "source": [
    "#\n",
    "BS_cat = ((targets['MASKBITS'] & 2**1)==0)\n",
    "LG_cat = ((targets['MASKBITS'] & 2**12)==0)\n",
    "GC_cat = ((targets['MASKBITS'] & 2**13)==0)\n",
    "# photometric\n",
    "# Fiber Magnitude Cut\n",
    "FMC = np.zeros_like(targets['RA'], dtype='?')\n",
    "FMC |= ((rfibmag < (2.9 + 1.2) + rmag) & (rmag < 17.1))\n",
    "FMC |= ((rfibmag < 21.2) & (rmag < 18.3) & (rmag > 17.1))\n",
    "FMC |= ((rfibmag < 2.9 + rmag) & (rmag > 18.3))\n",
    "\n",
    "maskdef_cat = (FMC) & (BS_cat) & (LG_cat) & (GC_cat)\n",
    "\n",
    "for bit in bits:\n",
    "    bgsbit = ((targets['BGS_TARGET'] & bgs_mask[bit]) != 0) & (maskdef_cat)\n",
    "    print(bit, np.sum(bgsbit))\n",
    "    print('\\t -- rmag min: %f, rmag max: %f' %(rmag[bgsbit].min(),rmag[bgsbit].max()))\n",
    "    print('\\t -- rfibmag min: %f, rfibmag max: %f' %(rfibmag[bgsbit].min(),rfibmag[bgsbit].max()))\n"
   ]
  },
  {
   "cell_type": "markdown",
   "metadata": {},
   "source": [
    "## run in branch with updated target selection"
   ]
  },
  {
   "cell_type": "code",
   "execution_count": 4,
   "metadata": {},
   "outputs": [
    {
     "name": "stdout",
     "output_type": "stream",
     "text": [
      "M\tpy/desitarget/cuts.py\n"
     ]
    },
    {
     "name": "stderr",
     "output_type": "stream",
     "text": [
      "Already on 'BGS_main'\n"
     ]
    }
   ],
   "source": [
    "%%bash\n",
    "#!/bin/bash\n",
    "\n",
    "cd /global/homes/q/qmxp55/DESI/desitarget\n",
    "git checkout BGS_main\n"
   ]
  },
  {
   "cell_type": "code",
   "execution_count": 5,
   "metadata": {},
   "outputs": [
    {
     "name": "stdout",
     "output_type": "stream",
     "text": [
      "INFO:cuts.py:2394:select_targets: Running on the main survey\n",
      "Total run time: 64.267602 sec\n"
     ]
    }
   ],
   "source": [
    "#\n",
    "sys.path.append('/global/homes/q/qmxp55/DESI/BGS_paper/')\n",
    "from desitarget.cuts import select_targets\n",
    "from desitarget import io\n",
    "from desitarget.targets import desi_mask, bgs_mask, mws_mask\n",
    "\n",
    "import time\n",
    "start = time.time()\n",
    "\n",
    "# setting GAIA dir environment (new requirement 5th Nov 2019)\n",
    "os.environ['GAIA_DIR'] = '/global/project/projectdirs/cosmo/data/gaia/dr2/'\n",
    "targets = select_targets(infiles[:2], mask=True, tcnames=[\"BGS\"], survey='main', backup=False)\n",
    "\n",
    "end = time.time()\n",
    "print('Total run time: %f sec' %(end - start))\n",
    "\n",
    "rmag = flux_to_mag(targets['FLUX_R']/targets['MW_TRANSMISSION_R'])\n",
    "rfibmag = flux_to_mag(targets['FIBERFLUX_R']/targets['MW_TRANSMISSION_R'])\n",
    "    "
   ]
  },
  {
   "cell_type": "code",
   "execution_count": 6,
   "metadata": {},
   "outputs": [
    {
     "name": "stdout",
     "output_type": "stream",
     "text": [
      "BGS_FAINT 25418\n",
      "\t -- rmag min: 19.500004, rmag max: 19.999994\n",
      "\t -- rfibmag min: 19.773514, rfibmag max: 22.862207\n",
      "BGS_BRIGHT 35852\n",
      "\t -- rmag min: 14.270964, rmag max: 19.499952\n",
      "\t -- rfibmag min: 16.216063, rfibmag max: 22.376495\n",
      "BGS_WISE 1827\n",
      "\t -- rmag min: 15.386374, rmag max: 19.999062\n",
      "\t -- rfibmag min: 15.657728, rfibmag max: 20.277885\n"
     ]
    }
   ],
   "source": [
    "bits = ['BGS_FAINT', 'BGS_BRIGHT', 'BGS_WISE']\n",
    "for bit in bits:\n",
    "    bgsbit = ((targets['BGS_TARGET'] & bgs_mask[bit]) != 0)\n",
    "    print(bit, np.sum(bgsbit))\n",
    "    print('\\t -- rmag min: %f, rmag max: %f' %(rmag[bgsbit].min(),rmag[bgsbit].max()))\n",
    "    print('\\t -- rfibmag min: %f, rfibmag max: %f' %(rfibmag[bgsbit].min(),rfibmag[bgsbit].max()))\n"
   ]
  },
  {
   "cell_type": "code",
   "execution_count": null,
   "metadata": {},
   "outputs": [],
   "source": []
  }
 ],
 "metadata": {
  "kernelspec": {
   "display_name": "BGS",
   "language": "python",
   "name": "desi_bgs_omar"
  },
  "language_info": {
   "codemirror_mode": {
    "name": "ipython",
    "version": 3
   },
   "file_extension": ".py",
   "mimetype": "text/x-python",
   "name": "python",
   "nbconvert_exporter": "python",
   "pygments_lexer": "ipython3",
   "version": "3.7.3"
  }
 },
 "nbformat": 4,
 "nbformat_minor": 4
}
